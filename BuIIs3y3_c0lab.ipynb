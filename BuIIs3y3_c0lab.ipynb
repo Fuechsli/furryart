{
  "nbformat": 4,
  "nbformat_minor": 0,
  "metadata": {
    "colab": {
      "provenance": [],
      "gpuType": "T4"
    },
    "kernelspec": {
      "name": "python3",
      "display_name": "Python 3"
    },
    "language_info": {
      "name": "python"
    },
    "accelerator": "GPU"
  },
  "cells": [
    {
      "cell_type": "markdown",
      "source": [
        "BuIIs3y3's Unb@nn3d St@bl3 D1ffu$$10n C0l@b"
      ],
      "metadata": {
        "id": "qP2xweREWcA6"
      }
    },
    {
      "cell_type": "code",
      "source": [
        "!pip install pytorch-lightning==1.6.5\n",
        "!pip install lightning-utilities==0.4.0"
      ],
      "metadata": {
        "id": "kZKA2MmCM7Ms"
      },
      "execution_count": null,
      "outputs": []
    },
    {
      "cell_type": "code",
      "execution_count": 1,
      "metadata": {
        "colab": {
          "base_uri": "https://localhost:8080/"
        },
        "id": "096nsmhaH3Kc",
        "outputId": "ad9d24d8-39b1-46cd-e718-2340743a7d87"
      },
      "outputs": [
        {
          "output_type": "stream",
          "name": "stdout",
          "text": [
            "Cloning into 'jcomix'...\n",
            "remote: Enumerating objects: 26713, done.\u001b[K\n",
            "remote: Total 26713 (delta 0), reused 0 (delta 0), pack-reused 26713\u001b[K\n",
            "Receiving objects: 100% (26713/26713), 31.96 MiB | 23.53 MiB/s, done.\n",
            "Resolving deltas: 100% (18740/18740), done.\n"
          ]
        }
      ],
      "source": [
        "!git clone https://github.com/Bullseye110/jcomix"
      ]
    },
    {
      "cell_type": "code",
      "source": [
        "%cd /content"
      ],
      "metadata": {
        "colab": {
          "base_uri": "https://localhost:8080/"
        },
        "id": "QB5z4W0NI3Yb",
        "outputId": "1812897a-229c-4cc2-bd61-c4627e23a8e5"
      },
      "execution_count": 2,
      "outputs": [
        {
          "output_type": "stream",
          "name": "stdout",
          "text": [
            "/content\n"
          ]
        }
      ]
    },
    {
      "cell_type": "code",
      "source": [
        "!curl -Lo /content/jcomix/models/Stable-diffusion/aniverse_V13Pruned.safetensors https://civitai.com/api/download/models/155642?type=Model&format=SafeTensor&size=pruned&fp=fp16\n",
        "!curl -Lo /content/jcomix/models/VAE/vae-ft-mse-840000-ema-pruned.safetensors https://huggingface.co/stabilityai/sd-vae-ft-mse-original/resolve/main/vae-ft-mse-840000-ema-pruned.safetensors"
      ],
      "metadata": {
        "colab": {
          "base_uri": "https://localhost:8080/"
        },
        "id": "H6SwC6cYI7ko",
        "outputId": "48f62a1d-ec25-480f-d5d5-5fa1be900592"
      },
      "execution_count": null,
      "outputs": [
        {
          "output_type": "stream",
          "name": "stdout",
          "text": [
            "  % Total    % Received % Xferd  Average Speed   Time    Time     Time  Current\n",
            "                                 Dload  Upload   Total   Spent    Left  Speed\n",
            "100   520    0   520    0     0    506      0 --:--:--  0:00:01 --:--:--   506\n",
            " 56 2033M   56 1155M    0     0  65.4M      0  0:00:31  0:00:17  0:00:14 61.8M"
          ]
        }
      ]
    },
    {
      "cell_type": "code",
      "source": [
        "%cd /content/jcomix"
      ],
      "metadata": {
        "id": "RWoh5GahI_3s"
      },
      "execution_count": null,
      "outputs": []
    },
    {
      "cell_type": "code",
      "source": [
        "!COMMANDLINE_ARGS=\"--theme dark --share --xformers --enable-insecure-extension\" REQS_FILE=\"requirements.txt\" python launch.py"
      ],
      "metadata": {
        "id": "GA3PAgnIJCsU"
      },
      "execution_count": null,
      "outputs": []
    }
  ]
}